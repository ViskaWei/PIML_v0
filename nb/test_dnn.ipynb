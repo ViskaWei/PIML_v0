{
 "cells": [
  {
   "cell_type": "code",
   "execution_count": 13,
   "id": "ce4e6b3b-e805-43f1-a6f3-e7bbaed66e6e",
   "metadata": {},
   "outputs": [],
   "source": [
    "import matplotlib.pyplot as plt\n"
   ]
  },
  {
   "cell_type": "code",
   "execution_count": 1,
   "id": "a3d70c25-2d83-42b5-a3b7-6e2a25a1701b",
   "metadata": {},
   "outputs": [],
   "source": [
    "from tensorflow.keras.layers import Input, Dense, Add, Activation\n",
    "from tensorflow.keras.models import Model\n",
    "import tensorflow as tf\n",
    "import numpy as np\n",
    "import random"
   ]
  },
  {
   "cell_type": "code",
   "execution_count": 2,
   "id": "525a43fe-19aa-4a5d-84d2-02feee4ea701",
   "metadata": {},
   "outputs": [],
   "source": [
    "from tensorflow import keras"
   ]
  },
  {
   "cell_type": "code",
   "execution_count": 7,
   "id": "ab57cb88-cc59-4991-98ea-540933cf2f72",
   "metadata": {},
   "outputs": [
    {
     "name": "stdout",
     "output_type": "stream",
     "text": [
      "2.7.0\n"
     ]
    }
   ],
   "source": [
    "print(tf.version.VERSION)"
   ]
  },
  {
   "cell_type": "code",
   "execution_count": 43,
   "id": "adeff190-1b1e-43f0-a015-44a1eae46460",
   "metadata": {},
   "outputs": [],
   "source": [
    "(x_train, y_train), (x_test, y_test) = keras.datasets.mnist.load_data()\n",
    "x_train, x_test = x_train / 255, x_test / 255\n",
    "assert x_train.shape == (60000, 28, 28)\n",
    "assert x_test.shape == (10000, 28, 28)\n",
    "assert y_train.shape == (60000,)\n",
    "assert y_test.shape == (10000,)"
   ]
  },
  {
   "cell_type": "code",
   "execution_count": 44,
   "id": "ca5452f2-839d-40f7-a1e8-1479d9973fe5",
   "metadata": {},
   "outputs": [
    {
     "data": {
      "text/plain": [
       "array([5, 0, 4, ..., 5, 6, 8], dtype=uint8)"
      ]
     },
     "execution_count": 44,
     "metadata": {},
     "output_type": "execute_result"
    }
   ],
   "source": [
    "y_train"
   ]
  },
  {
   "cell_type": "code",
   "execution_count": 45,
   "id": "35e5a3aa-cc35-426e-88a6-b4bf86269020",
   "metadata": {},
   "outputs": [
    {
     "data": {
      "text/plain": [
       "<matplotlib.image.AxesImage at 0x7faa301dd880>"
      ]
     },
     "execution_count": 45,
     "metadata": {},
     "output_type": "execute_result"
    },
    {
     "data": {
      "image/png": "[encoded data removed]",
      "text/plain": [
       "<Figure size 288x288 with 1 Axes>"
      ]
     },
     "metadata": {
      "needs_background": "light"
     },
     "output_type": "display_data"
    }
   ],
   "source": [
    "plt.matshow(x_train[0])"
   ]
  },
  {
   "cell_type": "code",
   "execution_count": 60,
   "id": "f5d1ba3d-39dc-4e84-9347-85ace036c16c",
   "metadata": {},
   "outputs": [],
   "source": [
    "from tensorflow.keras import layers as la"
   ]
  },
  {
   "cell_type": "code",
   "execution_count": 139,
   "id": "054392ce-297d-4756-b31d-26377951b042",
   "metadata": {},
   "outputs": [],
   "source": [
    "x = np.array([[10000,1000,100,10,1,0.1,0.01,0.001],[0,0,0,0,0,0,0,0]])\n",
    "stddev = np.array([[1,2,3,4,5,6,7,8],[8,7,6,5,4,3,2,1]])"
   ]
  },
  {
   "cell_type": "code",
   "execution_count": null,
   "id": "6b191be9-03ca-454d-8bbe-ad57af5f28c5",
   "metadata": {},
   "outputs": [],
   "source": [
    "class NoiseAugLayer(tf.keras.layers.Layer):\n",
    "    def __init__(self, num_outputs, noise_aug_fn, noise_level):\n",
    "        super(MyDenseLayer, self).__init__()\n",
    "        self.num_outputs = num_outputs\n",
    "        self.noise_aug_fn = noise_aug_fn\n",
    "        self.noise_level = noise_level\n",
    "\n",
    "    def build(self, input_shape):\n",
    "        self.kernel = self.add_weight(\"kernel\",\n",
    "                                  shape=[int(input_shape[-1]),\n",
    "                                         self.num_outputs])\n",
    "\n",
    "    def call(self, inputs, stddev):\n",
    "        noise = np.random.rand(0,\n",
    "        return tf.matmul(inputs, self.kernel)"
   ]
  },
  {
   "cell_type": "code",
   "execution_count": 140,
   "id": "af7d7e59-390b-41d6-b5ae-048f0ae1a084",
   "metadata": {},
   "outputs": [
    {
     "name": "stdout",
     "output_type": "stream",
     "text": [
      "updating sttdev in training\n",
      "[[1.e+04 1.e+03 1.e+02 1.e+01 1.e+00 1.e-01 1.e-02 1.e-03]\n",
      " [0.e+00 0.e+00 0.e+00 0.e+00 0.e+00 0.e+00 0.e+00 0.e+00]]\n",
      "1/1 [==============================] - 0s 106ms/step - loss: 761448.5000\n"
     ]
    },
    {
     "data": {
      "text/plain": [
       "<keras.callbacks.History at 0x7fa9f43e2dc0>"
      ]
     },
     "execution_count": 140,
     "metadata": {},
     "output_type": "execute_result"
    }
   ],
   "source": [
    "m0 = tf.keras.Sequential([\n",
    "    la.GaussianNoise(1, seed=42)  \n",
    "])\n",
    "class MyCustomCallback(tf.keras.callbacks.Callback):\n",
    "    def on_epoch_begin(self, epoch, logs=None):\n",
    "        self.model.layers[0].stddev = x\n",
    "        print('updating sttdev in training')\n",
    "        print(self.model.layers[0].stddev)\n",
    "cc = MyCustomCallback()\n",
    "m0.compile('adam','mse')\n",
    "m0.fit(tf.constant([[1.0]]), tf.constant([[1.0]]), callbacks=[cc])\n",
    "# m0(x, training=True, callbacks=[])"
   ]
  },
  {
   "cell_type": "code",
   "execution_count": 141,
   "id": "ba6432ae-875a-42e1-9dcb-d77a4d568415",
   "metadata": {},
   "outputs": [],
   "source": [
    "y = np.zeros((1000,2,8))"
   ]
  },
  {
   "cell_type": "code",
   "execution_count": 142,
   "id": "8bbb6b79-9a2c-490a-a535-387600e9fea4",
   "metadata": {},
   "outputs": [
    {
     "data": {
      "text/plain": [
       "<tf.Tensor: shape=(2, 8), dtype=float32, numpy=\n",
       "array([[40.77018  ,  3.9669242,  1.8556659, -1.397187 , -1.0115175,\n",
       "        -1.0044372, -1.0003504, -1.0000002],\n",
       "       [-1.       , -1.       , -1.       , -1.       , -1.       ,\n",
       "        -1.       , -1.       , -1.       ]], dtype=float32)>"
      ]
     },
     "execution_count": 142,
     "metadata": {},
     "output_type": "execute_result"
    }
   ],
   "source": [
    "tf.math.reduce_mean(m0(y, training=1), axis=0)- 1"
   ]
  },
  {
   "cell_type": "code",
   "execution_count": null,
   "id": "2e3a08b9-64c3-4f51-add5-ba62520f1b6b",
   "metadata": {},
   "outputs": [],
   "source": [
    "class MyCustomCallback(tf.keras.callbacks.Callback):\n",
    "\n",
    "    def on_epoch_begin(self, epoch, logs=None):\n",
    "        self.model.layers[2].stddev = random.uniform(0, 1)\n",
    "        print('updating sttdev in training')\n",
    "        print(self.model.layers[2].stddev)\n",
    "\n",
    "\n",
    "X_train = np.zeros((10,100))\n",
    "y_train = np.zeros((10,10))\n",
    "\n",
    "noise_change = MyCustomCallback()\n",
    "model.fit(x_train, \n",
    "          y_train, \n",
    "          batch_size=32, \n",
    "          epochs=5, \n",
    "          callbacks = [noise_change])"
   ]
  },
  {
   "cell_type": "code",
   "execution_count": 58,
   "id": "8ca9d40c-31b5-41a1-bf72-2f38d0692e57",
   "metadata": {},
   "outputs": [],
   "source": [
    "model = tf.keras.models.Sequential([\n",
    "  tf.keras.layers.Flatten(input_shape=(28, 28)),\n",
    "  tf.keras.layers.GaussianNoise(0.5),\n",
    "  tf.keras.layers.Dense(128, activation='relu'),\n",
    "  tf.keras.layers.Dense(10)\n",
    "])"
   ]
  },
  {
   "cell_type": "code",
   "execution_count": 59,
   "id": "e2bd8c8a-b029-479c-b455-e70be9af3221",
   "metadata": {},
   "outputs": [],
   "source": [
    "# inputs = Input(shape=100)\n",
    "# # bn0 = BatchNormalization(axis=1, scale=True)(inputs)\n",
    "# g0 = GaussianNoise(0.5)(bn0) \n",
    "# d0 = Dense(10)(g0)\n",
    "# model = Model(inputs, d0)\n",
    "\n",
    "model.compile(\n",
    "    optimizer=tf.keras.optimizers.Adam(0.001),\n",
    "    loss=tf.keras.losses.SparseCategoricalCrossentropy(from_logits=True),\n",
    "    metrics=[tf.keras.metrics.SparseCategoricalAccuracy()],\n",
    ")"
   ]
  },
  {
   "cell_type": "code",
   "execution_count": null,
   "id": "d6a22c48-aecd-4656-8700-6911380e7c19",
   "metadata": {},
   "outputs": [],
   "source": [
    "class MyCustomCallback(tf.keras.callbacks.Callback):\n",
    "\n",
    "    def on_epoch_begin(self, epoch, logs=None):\n",
    "        self.model.layers[2].stddev = random.uniform(0, 1)\n",
    "        print('updating sttdev in training')\n",
    "        print(self.model.layers[2].stddev)"
   ]
  },
  {
   "cell_type": "code",
   "execution_count": 50,
   "id": "1cd7c9c8-2d2b-458f-ae1b-e79140be7eb1",
   "metadata": {},
   "outputs": [
    {
     "name": "stdout",
     "output_type": "stream",
     "text": [
      "Epoch 1/5\n",
      "469/469 [==============================] - 1s 2ms/step - loss: 0.0471 - sparse_categorical_accuracy: 0.9862\n",
      "Epoch 2/5\n",
      "469/469 [==============================] - 1s 2ms/step - loss: 0.0394 - sparse_categorical_accuracy: 0.9892\n",
      "Epoch 3/5\n",
      "469/469 [==============================] - 1s 2ms/step - loss: 0.0348 - sparse_categorical_accuracy: 0.9905\n",
      "Epoch 4/5\n",
      "469/469 [==============================] - 1s 2ms/step - loss: 0.0315 - sparse_categorical_accuracy: 0.9915\n",
      "Epoch 5/5\n",
      "469/469 [==============================] - 1s 2ms/step - loss: 0.0279 - sparse_categorical_accuracy: 0.9925\n"
     ]
    },
    {
     "data": {
      "text/plain": [
       "<keras.callbacks.History at 0x7faa300f5700>"
      ]
     },
     "execution_count": 50,
     "metadata": {},
     "output_type": "execute_result"
    }
   ],
   "source": [
    "model.fit(x_train, y_train, batch_size=128, epochs=5)"
   ]
  },
  {
   "cell_type": "code",
   "execution_count": 51,
   "id": "c6656f92-52d4-4aa7-85e0-f3ec75b82c6a",
   "metadata": {},
   "outputs": [
    {
     "name": "stdout",
     "output_type": "stream",
     "text": [
      "313/313 [==============================] - 0s 848us/step - loss: 0.0647 - sparse_categorical_accuracy: 0.9798\n"
     ]
    }
   ],
   "source": [
    "score = model.evaluate(x_test, y_test, verbose=1)"
   ]
  },
  {
   "cell_type": "code",
   "execution_count": 54,
   "id": "c0801522-ed8b-4620-aaa7-292262f9857a",
   "metadata": {},
   "outputs": [
    {
     "ename": "AttributeError",
     "evalue": "'Dense' object has no attribute 'stddev'",
     "output_type": "error",
     "traceback": [
      "\u001b[0;31m---------------------------------------------------------------------------\u001b[0m",
      "\u001b[0;31mAttributeError\u001b[0m                            Traceback (most recent call last)",
      "\u001b[0;32m/tmp/ipykernel_1936090/3101989453.py\u001b[0m in \u001b[0;36m<module>\u001b[0;34m\u001b[0m\n\u001b[0;32m----> 1\u001b[0;31m \u001b[0mmodel\u001b[0m\u001b[0;34m.\u001b[0m\u001b[0mlayers\u001b[0m\u001b[0;34m[\u001b[0m\u001b[0;36m2\u001b[0m\u001b[0;34m]\u001b[0m\u001b[0;34m.\u001b[0m\u001b[0mstddev\u001b[0m\u001b[0;34m\u001b[0m\u001b[0;34m\u001b[0m\u001b[0m\n\u001b[0m",
      "\u001b[0;31mAttributeError\u001b[0m: 'Dense' object has no attribute 'stddev'"
     ]
    }
   ],
   "source": [
    "model.layers[2].stddev"
   ]
  },
  {
   "cell_type": "code",
   "execution_count": 24,
   "id": "1f042db8-6442-4c8d-9ca5-92539c00492f",
   "metadata": {},
   "outputs": [
    {
     "ename": "ValueError",
     "evalue": "Data cardinality is ambiguous:\n  x sizes: 60000\n  y sizes: 10\nMake sure all arrays contain the same number of samples.",
     "output_type": "error",
     "traceback": [
      "\u001b[0;31m---------------------------------------------------------------------------\u001b[0m",
      "\u001b[0;31mValueError\u001b[0m                                Traceback (most recent call last)",
      "\u001b[0;32m/tmp/ipykernel_1936090/457111355.py\u001b[0m in \u001b[0;36m<module>\u001b[0;34m\u001b[0m\n\u001b[1;32m     11\u001b[0m \u001b[0;34m\u001b[0m\u001b[0m\n\u001b[1;32m     12\u001b[0m \u001b[0mnoise_change\u001b[0m \u001b[0;34m=\u001b[0m \u001b[0mMyCustomCallback\u001b[0m\u001b[0;34m(\u001b[0m\u001b[0;34m)\u001b[0m\u001b[0;34m\u001b[0m\u001b[0;34m\u001b[0m\u001b[0m\n\u001b[0;32m---> 13\u001b[0;31m model.fit(x_train, \n\u001b[0m\u001b[1;32m     14\u001b[0m           \u001b[0my_train\u001b[0m\u001b[0;34m,\u001b[0m\u001b[0;34m\u001b[0m\u001b[0;34m\u001b[0m\u001b[0m\n\u001b[1;32m     15\u001b[0m           \u001b[0mbatch_size\u001b[0m\u001b[0;34m=\u001b[0m\u001b[0;36m32\u001b[0m\u001b[0;34m,\u001b[0m\u001b[0;34m\u001b[0m\u001b[0;34m\u001b[0m\u001b[0m\n",
      "\u001b[0;32m/datascope/slurm/miniconda3/envs/viska-tf25/lib/python3.9/site-packages/keras/utils/traceback_utils.py\u001b[0m in \u001b[0;36merror_handler\u001b[0;34m(*args, **kwargs)\u001b[0m\n\u001b[1;32m     65\u001b[0m     \u001b[0;32mexcept\u001b[0m \u001b[0mException\u001b[0m \u001b[0;32mas\u001b[0m \u001b[0me\u001b[0m\u001b[0;34m:\u001b[0m  \u001b[0;31m# pylint: disable=broad-except\u001b[0m\u001b[0;34m\u001b[0m\u001b[0;34m\u001b[0m\u001b[0m\n\u001b[1;32m     66\u001b[0m       \u001b[0mfiltered_tb\u001b[0m \u001b[0;34m=\u001b[0m \u001b[0m_process_traceback_frames\u001b[0m\u001b[0;34m(\u001b[0m\u001b[0me\u001b[0m\u001b[0;34m.\u001b[0m\u001b[0m__traceback__\u001b[0m\u001b[0;34m)\u001b[0m\u001b[0;34m\u001b[0m\u001b[0;34m\u001b[0m\u001b[0m\n\u001b[0;32m---> 67\u001b[0;31m       \u001b[0;32mraise\u001b[0m \u001b[0me\u001b[0m\u001b[0;34m.\u001b[0m\u001b[0mwith_traceback\u001b[0m\u001b[0;34m(\u001b[0m\u001b[0mfiltered_tb\u001b[0m\u001b[0;34m)\u001b[0m \u001b[0;32mfrom\u001b[0m \u001b[0;32mNone\u001b[0m\u001b[0;34m\u001b[0m\u001b[0;34m\u001b[0m\u001b[0m\n\u001b[0m\u001b[1;32m     68\u001b[0m     \u001b[0;32mfinally\u001b[0m\u001b[0;34m:\u001b[0m\u001b[0;34m\u001b[0m\u001b[0;34m\u001b[0m\u001b[0m\n\u001b[1;32m     69\u001b[0m       \u001b[0;32mdel\u001b[0m \u001b[0mfiltered_tb\u001b[0m\u001b[0;34m\u001b[0m\u001b[0;34m\u001b[0m\u001b[0m\n",
      "\u001b[0;32m/datascope/slurm/miniconda3/envs/viska-tf25/lib/python3.9/site-packages/keras/engine/data_adapter.py\u001b[0m in \u001b[0;36m_check_data_cardinality\u001b[0;34m(data)\u001b[0m\n\u001b[1;32m   1655\u001b[0m                            for i in tf.nest.flatten(single_data)))\n\u001b[1;32m   1656\u001b[0m     \u001b[0mmsg\u001b[0m \u001b[0;34m+=\u001b[0m \u001b[0;34m\"Make sure all arrays contain the same number of samples.\"\u001b[0m\u001b[0;34m\u001b[0m\u001b[0;34m\u001b[0m\u001b[0m\n\u001b[0;32m-> 1657\u001b[0;31m     \u001b[0;32mraise\u001b[0m \u001b[0mValueError\u001b[0m\u001b[0;34m(\u001b[0m\u001b[0mmsg\u001b[0m\u001b[0;34m)\u001b[0m\u001b[0;34m\u001b[0m\u001b[0;34m\u001b[0m\u001b[0m\n\u001b[0m\u001b[1;32m   1658\u001b[0m \u001b[0;34m\u001b[0m\u001b[0m\n\u001b[1;32m   1659\u001b[0m \u001b[0;34m\u001b[0m\u001b[0m\n",
      "\u001b[0;31mValueError\u001b[0m: Data cardinality is ambiguous:\n  x sizes: 60000\n  y sizes: 10\nMake sure all arrays contain the same number of samples."
     ]
    }
   ],
   "source": [
    "class MyCustomCallback(tf.keras.callbacks.Callback):\n",
    "\n",
    "    def on_epoch_begin(self, epoch, logs=None):\n",
    "        self.model.layers[2].stddev = random.uniform(0, 1)\n",
    "        print('updating sttdev in training')\n",
    "        print(self.model.layers[2].stddev)\n",
    "\n",
    "\n",
    "X_train = np.zeros((10,100))\n",
    "y_train = np.zeros((10,10))\n",
    "\n",
    "noise_change = MyCustomCallback()\n",
    "model.fit(x_train, \n",
    "          y_train, \n",
    "          batch_size=32, \n",
    "          epochs=5, \n",
    "          callbacks = [noise_change])"
   ]
  },
  {
   "cell_type": "code",
   "execution_count": null,
   "id": "bc1aa028-8868-486d-bacb-3d6a711b84b2",
   "metadata": {},
   "outputs": [],
   "source": []
  }
 ],
 "metadata": {
  "kernelspec": {
   "display_name": "Python 3 [viska-tf25]",
   "language": "python",
   "name": "python3-viska-tf25"
  },
  "language_info": {
   "codemirror_mode": {
    "name": "ipython",
    "version": 3
   },
   "file_extension": ".py",
   "mimetype": "text/x-python",
   "name": "python",
   "nbconvert_exporter": "python",
   "pygments_lexer": "ipython3",
   "version": "3.9.6"
  }
 },
 "nbformat": 4,
 "nbformat_minor": 5
}
