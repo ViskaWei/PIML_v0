{
 "cells": [
  {
   "cell_type": "code",
   "execution_count": 260,
   "id": "0f34ca64-a08a-4ea1-afbf-f03525a7c57c",
   "metadata": {},
   "outputs": [],
   "source": [
    "%load_ext autoreload\n",
    "%autoreload 2"
   ]
  },
  {
   "cell_type": "code",
   "execution_count": 259,
   "id": "9841a0c2-f6ef-45d1-b2b9-61c6e94e25e0",
   "metadata": {},
   "outputs": [],
   "source": [
    "PROJECT_PATH = '../'\n",
    "import sys\n",
    "sys.path.insert(0, PROJECT_PATH)"
   ]
  },
  {
   "cell_type": "code",
   "execution_count": 13,
   "id": "ce4e6b3b-e805-43f1-a6f3-e7bbaed66e6e",
   "metadata": {},
   "outputs": [],
   "source": [
    "import matplotlib.pyplot as plt\n"
   ]
  },
  {
   "cell_type": "code",
   "execution_count": 1,
   "id": "a3d70c25-2d83-42b5-a3b7-6e2a25a1701b",
   "metadata": {},
   "outputs": [],
   "source": [
    "from tensorflow.keras.layers import Input, Dense, Add, Activation\n",
    "from tensorflow.keras.models import Model\n",
    "import tensorflow as tf\n",
    "import numpy as np\n",
    "import random"
   ]
  },
  {
   "cell_type": "code",
   "execution_count": 2,
   "id": "525a43fe-19aa-4a5d-84d2-02feee4ea701",
   "metadata": {},
   "outputs": [],
   "source": [
    "from tensorflow import keras"
   ]
  },
  {
   "cell_type": "code",
   "execution_count": 7,
   "id": "ab57cb88-cc59-4991-98ea-540933cf2f72",
   "metadata": {},
   "outputs": [
    {
     "name": "stdout",
     "output_type": "stream",
     "text": [
      "2.7.0\n"
     ]
    }
   ],
   "source": [
    "print(tf.version.VERSION)"
   ]
  },
  {
   "cell_type": "code",
   "execution_count": 43,
   "id": "adeff190-1b1e-43f0-a015-44a1eae46460",
   "metadata": {},
   "outputs": [],
   "source": [
    "(x_train, y_train), (x_test, y_test) = keras.datasets.mnist.load_data()\n",
    "x_train, x_test = x_train / 255, x_test / 255\n",
    "assert x_train.shape == (60000, 28, 28)\n",
    "assert x_test.shape == (10000, 28, 28)\n",
    "assert y_train.shape == (60000,)\n",
    "assert y_test.shape == (10000,)"
   ]
  },
  {
   "cell_type": "code",
   "execution_count": 44,
   "id": "ca5452f2-839d-40f7-a1e8-1479d9973fe5",
   "metadata": {},
   "outputs": [
    {
     "data": {
      "text/plain": [
       "array([5, 0, 4, ..., 5, 6, 8], dtype=uint8)"
      ]
     },
     "execution_count": 44,
     "metadata": {},
     "output_type": "execute_result"
    }
   ],
   "source": [
    "y_train"
   ]
  },
  {
   "cell_type": "code",
   "execution_count": 45,
   "id": "35e5a3aa-cc35-426e-88a6-b4bf86269020",
   "metadata": {},
   "outputs": [
    {
     "data": {
      "text/plain": [
       "<matplotlib.image.AxesImage at 0x7faa301dd880>"
      ]
     },
     "execution_count": 45,
     "metadata": {},
     "output_type": "execute_result"
    },
    {
     "data": {
      "image/png": "[encoded data removed]",
      "text/plain": [
       "<Figure size 288x288 with 1 Axes>"
      ]
     },
     "metadata": {
      "needs_background": "light"
     },
     "output_type": "display_data"
    }
   ],
   "source": [
    "plt.matshow(x_train[0])"
   ]
  },
  {
   "cell_type": "code",
   "execution_count": 60,
   "id": "f5d1ba3d-39dc-4e84-9347-85ace036c16c",
   "metadata": {},
   "outputs": [],
   "source": [
    "from tensorflow.keras import layers as la"
   ]
  },
  {
   "cell_type": "code",
   "execution_count": 139,
   "id": "054392ce-297d-4756-b31d-26377951b042",
   "metadata": {},
   "outputs": [],
   "source": [
    "x = np.array([[10000,1000,100,10,1,0.1,0.01,0.001],[0,0,0,0,0,0,0,0]])\n",
    "stddev = np.array([[1,2,3,4,5,6,7,8],[8,7,6,5,4,3,2,1]])"
   ]
  },
  {
   "cell_type": "code",
   "execution_count": 226,
   "id": "af5759a9-cc3f-4828-b6d0-7f3c18790e12",
   "metadata": {},
   "outputs": [],
   "source": [
    "def get_var(ssm, skym, step=1):\n",
    "    #--------------------------------------------\n",
    "    # Get the total variance\n",
    "    # BETA is the scaling for the sky\n",
    "    # VREAD is the variance of the white noise\n",
    "    # This variance is still scaled with an additional\n",
    "    # factor when we simuate an observation.\n",
    "    #--------------------------------------------\n",
    "    BETA  = 10.0\n",
    "    VREAD = 16000\n",
    "    varm  = ssm + BETA*skym + VREAD\n",
    "    if step <= 1: \n",
    "        return varm\n",
    "    else:\n",
    "        return np.divide(varm, step)"
   ]
  },
  {
   "cell_type": "code",
   "execution_count": 249,
   "id": "af0f3267-cd4c-4a09-8245-3ea0c0f35d87",
   "metadata": {},
   "outputs": [],
   "source": [
    "def get_var_fn(ssm):\n",
    "    return (ssm)"
   ]
  },
  {
   "cell_type": "code",
   "execution_count": 252,
   "id": "6b191be9-03ca-454d-8bbe-ad57af5f28c5",
   "metadata": {},
   "outputs": [],
   "source": [
    "class NoiseAugLayer(tf.keras.layers.Layer):\n",
    "    def __init__(self, get_var_fn, stddev_len, noise_level=0):\n",
    "        super(NoiseAugLayer, self).__init__()\n",
    "        self.get_var_fn = get_var_fn\n",
    "        self.num_outputs = stddev_len\n",
    "        self.noise_level = noise_level\n",
    "\n",
    "    def get_noise(self, stddev):\n",
    "        print(stddev)\n",
    "        noise = tf.random.normal(shape=(1,self.num_outputs), mean=0, stddev=stddev, seed=42)\n",
    "        return noise\n",
    "        \n",
    "    def call(self, inputs):\n",
    "        var = self.get_var_fn(inputs)\n",
    "        stddev = tf.math.sqrt(var)\n",
    "        if self.noise_level > 0: stddev = stddev * self.noise_level\n",
    "        noise = self.get_noise(stddev)\n",
    "        return inputs + noise"
   ]
  },
  {
   "cell_type": "code",
   "execution_count": null,
   "id": "76a65d70-4f9d-4ad1-8a40-286fe0ce4376",
   "metadata": {},
   "outputs": [],
   "source": []
  },
  {
   "cell_type": "code",
   "execution_count": 253,
   "id": "c0ea3f6e-051c-40b5-8640-ec7e3773a681",
   "metadata": {},
   "outputs": [],
   "source": [
    "y = tf.zeros((2,8))"
   ]
  },
  {
   "cell_type": "code",
   "execution_count": 257,
   "id": "6788b1f1-2fa4-449d-a091-4e4773ea8646",
   "metadata": {},
   "outputs": [
    {
     "name": "stdout",
     "output_type": "stream",
     "text": [
      "tf.Tensor(\n",
      "[[1.0000000e+02 3.1622774e+01 1.0000000e+01 3.1622777e+00 9.9999994e-01\n",
      "  3.1622776e-01 9.9999994e-02 3.1622779e-02]\n",
      " [9.9999994e-01 9.9999994e-01 9.9999994e-01 9.9999994e-01 9.9999994e-01\n",
      "  9.9999994e-01 9.9999994e-01 9.9999994e-01]], shape=(2, 8), dtype=float32)\n"
     ]
    },
    {
     "data": {
      "text/plain": [
       "<tf.Tensor: shape=(2, 8), dtype=float32, numpy=\n",
       "array([[ 1.00442100e+04,  1.01657166e+03,  1.12094330e+02,\n",
       "         9.78683281e+00, -5.45990467e-02,  6.53164148e-01,\n",
       "         6.23591095e-02,  1.39722470e-02],\n",
       "       [ 1.44209790e+00,  1.52404249e+00,  2.20943308e+00,\n",
       "         9.32590723e-01, -5.45990467e-02,  2.74925852e+00,\n",
       "         1.52359104e+00,  1.41021848e+00]], dtype=float32)>"
      ]
     },
     "execution_count": 257,
     "metadata": {},
     "output_type": "execute_result"
    }
   ],
   "source": [
    "NoiseAugLayer(get_var_fn, 8, noise_level=0)(x)"
   ]
  },
  {
   "cell_type": "code",
   "execution_count": 221,
   "id": "dcaa7a9f-b77c-4282-b1b1-b071d6bbb434",
   "metadata": {},
   "outputs": [
    {
     "data": {
      "text/plain": [
       "array([[1.e+04, 1.e+03, 1.e+02, 1.e+01, 1.e+00, 1.e-01, 1.e-02, 1.e-03],\n",
       "       [1.e+00, 1.e+00, 1.e+00, 1.e+00, 1.e+00, 1.e+00, 1.e+00, 1.e+00]])"
      ]
     },
     "execution_count": 221,
     "metadata": {},
     "output_type": "execute_result"
    }
   ],
   "source": [
    "x"
   ]
  },
  {
   "cell_type": "code",
   "execution_count": 222,
   "id": "f71b3360-c257-4502-9d00-8387ffd159f2",
   "metadata": {},
   "outputs": [
    {
     "name": "stdout",
     "output_type": "stream",
     "text": [
      "[[1.e+04 1.e+03 1.e+02 1.e+01 1.e+00 1.e-01 1.e-02 1.e-03]\n",
      " [1.e+00 1.e+00 1.e+00 1.e+00 1.e+00 1.e+00 1.e+00 1.e+00]]\n"
     ]
    },
    {
     "data": {
      "text/plain": [
       "<tf.Tensor: shape=(2, 8), dtype=float32, numpy=\n",
       "array([[ 1.5784944e+04, -6.2857202e+02, -9.1982880e+01, -4.7250600e+00,\n",
       "         1.9498870e-01,  5.5451661e-02,  1.4403284e-02, -4.1224173e-04],\n",
       "       [ 1.5784944e+00, -6.2857205e-01, -9.1982877e-01, -4.7250599e-01,\n",
       "         1.9498870e-01,  5.5451661e-01,  1.4403284e+00, -4.1224170e-01]],\n",
       "      dtype=float32)>"
      ]
     },
     "execution_count": 222,
     "metadata": {},
     "output_type": "execute_result"
    }
   ],
   "source": [
    "n(y, x)"
   ]
  },
  {
   "cell_type": "code",
   "execution_count": 363,
   "id": "d7e2ddd4-15c5-41fb-8027-a9487fdca008",
   "metadata": {},
   "outputs": [],
   "source": [
    "from PIML.nn.dnn.model.noisednn import NoiseDNN"
   ]
  },
  {
   "cell_type": "code",
   "execution_count": 364,
   "id": "703c4efb-be66-4cc2-85ba-1d99b4670671",
   "metadata": {},
   "outputs": [],
   "source": [
    "dnn = NoiseDNN()"
   ]
  },
  {
   "cell_type": "code",
   "execution_count": 365,
   "id": "d7235fd8-a48b-4fbf-b6b2-6ce1925b6105",
   "metadata": {},
   "outputs": [
    {
     "name": "stdout",
     "output_type": "stream",
     "text": [
      "Layers: [8, 64, 32, 16, 8]\n"
     ]
    }
   ],
   "source": [
    "dnn.set_model_shape(8,8)\n",
    "dnn.set_model_param()\n",
    "dnn.build_model(noise_level=1)"
   ]
  },
  {
   "cell_type": "code",
   "execution_count": 366,
   "id": "2772488d-2f28-4bfb-8106-b7efd570e7ff",
   "metadata": {},
   "outputs": [
    {
     "data": {
      "text/plain": [
       "<tf.Tensor: shape=(2, 8), dtype=float32, numpy=\n",
       "array([[1.e+04, 1.e+03, 1.e+02, 1.e+01, 1.e+00, 1.e-01, 1.e-02, 1.e-03],\n",
       "       [1.e+00, 1.e+00, 1.e+00, 1.e+00, 1.e+00, 1.e+00, 1.e+00, 1.e+00]],\n",
       "      dtype=float32)>"
      ]
     },
     "execution_count": 366,
     "metadata": {},
     "output_type": "execute_result"
    }
   ],
   "source": [
    "dnn.model(x)"
   ]
  },
  {
   "cell_type": "code",
   "execution_count": 368,
   "id": "d98a3b84-f026-4ca6-8872-c5277d65eb6e",
   "metadata": {},
   "outputs": [
    {
     "ename": "ValueError",
     "evalue": "Layer \"dnn\" expects 1 input(s), but it received 2 input tensors. Inputs received: [<tf.Tensor: shape=(2, 8), dtype=float64, numpy=\narray([[1.e+04, 1.e+03, 1.e+02, 1.e+01, 1.e+00, 1.e-01, 1.e-02, 1.e-03],\n       [1.e+00, 1.e+00, 1.e+00, 1.e+00, 1.e+00, 1.e+00, 1.e+00, 1.e+00]])>, <tf.Tensor: shape=(2, 8), dtype=float64, numpy=\narray([[1.e+04, 1.e+03, 1.e+02, 1.e+01, 1.e+00, 1.e-01, 1.e-02, 1.e-03],\n       [1.e+00, 1.e+00, 1.e+00, 1.e+00, 1.e+00, 1.e+00, 1.e+00, 1.e+00]])>]",
     "output_type": "error",
     "traceback": [
      "\u001b[0;31m---------------------------------------------------------------------------\u001b[0m",
      "\u001b[0;31mValueError\u001b[0m                                Traceback (most recent call last)",
      "\u001b[0;32m/tmp/ipykernel_1936090/1934543554.py\u001b[0m in \u001b[0;36m<module>\u001b[0;34m\u001b[0m\n\u001b[0;32m----> 1\u001b[0;31m \u001b[0mdnn\u001b[0m\u001b[0;34m.\u001b[0m\u001b[0mmodel\u001b[0m\u001b[0;34m(\u001b[0m\u001b[0;34m[\u001b[0m\u001b[0mx\u001b[0m\u001b[0;34m,\u001b[0m\u001b[0mx\u001b[0m\u001b[0;34m]\u001b[0m\u001b[0;34m,\u001b[0m \u001b[0mtraining\u001b[0m\u001b[0;34m=\u001b[0m\u001b[0;36m1\u001b[0m\u001b[0;34m)\u001b[0m\u001b[0;34m\u001b[0m\u001b[0;34m\u001b[0m\u001b[0m\n\u001b[0m",
      "\u001b[0;32m/datascope/slurm/miniconda3/envs/viska-tf25/lib/python3.9/site-packages/keras/utils/traceback_utils.py\u001b[0m in \u001b[0;36merror_handler\u001b[0;34m(*args, **kwargs)\u001b[0m\n\u001b[1;32m     65\u001b[0m     \u001b[0;32mexcept\u001b[0m \u001b[0mException\u001b[0m \u001b[0;32mas\u001b[0m \u001b[0me\u001b[0m\u001b[0;34m:\u001b[0m  \u001b[0;31m# pylint: disable=broad-except\u001b[0m\u001b[0;34m\u001b[0m\u001b[0;34m\u001b[0m\u001b[0m\n\u001b[1;32m     66\u001b[0m       \u001b[0mfiltered_tb\u001b[0m \u001b[0;34m=\u001b[0m \u001b[0m_process_traceback_frames\u001b[0m\u001b[0;34m(\u001b[0m\u001b[0me\u001b[0m\u001b[0;34m.\u001b[0m\u001b[0m__traceback__\u001b[0m\u001b[0;34m)\u001b[0m\u001b[0;34m\u001b[0m\u001b[0;34m\u001b[0m\u001b[0m\n\u001b[0;32m---> 67\u001b[0;31m       \u001b[0;32mraise\u001b[0m \u001b[0me\u001b[0m\u001b[0;34m.\u001b[0m\u001b[0mwith_traceback\u001b[0m\u001b[0;34m(\u001b[0m\u001b[0mfiltered_tb\u001b[0m\u001b[0;34m)\u001b[0m \u001b[0;32mfrom\u001b[0m \u001b[0;32mNone\u001b[0m\u001b[0;34m\u001b[0m\u001b[0;34m\u001b[0m\u001b[0m\n\u001b[0m\u001b[1;32m     68\u001b[0m     \u001b[0;32mfinally\u001b[0m\u001b[0;34m:\u001b[0m\u001b[0;34m\u001b[0m\u001b[0;34m\u001b[0m\u001b[0m\n\u001b[1;32m     69\u001b[0m       \u001b[0;32mdel\u001b[0m \u001b[0mfiltered_tb\u001b[0m\u001b[0;34m\u001b[0m\u001b[0;34m\u001b[0m\u001b[0m\n",
      "\u001b[0;32m/datascope/slurm/miniconda3/envs/viska-tf25/lib/python3.9/site-packages/keras/engine/input_spec.py\u001b[0m in \u001b[0;36massert_input_compatibility\u001b[0;34m(input_spec, inputs, layer_name)\u001b[0m\n\u001b[1;32m    197\u001b[0m \u001b[0;34m\u001b[0m\u001b[0m\n\u001b[1;32m    198\u001b[0m   \u001b[0;32mif\u001b[0m \u001b[0mlen\u001b[0m\u001b[0;34m(\u001b[0m\u001b[0minputs\u001b[0m\u001b[0;34m)\u001b[0m \u001b[0;34m!=\u001b[0m \u001b[0mlen\u001b[0m\u001b[0;34m(\u001b[0m\u001b[0minput_spec\u001b[0m\u001b[0;34m)\u001b[0m\u001b[0;34m:\u001b[0m\u001b[0;34m\u001b[0m\u001b[0;34m\u001b[0m\u001b[0m\n\u001b[0;32m--> 199\u001b[0;31m     raise ValueError(f'Layer \"{layer_name}\" expects {len(input_spec)} input(s),'\n\u001b[0m\u001b[1;32m    200\u001b[0m                      \u001b[0;34mf' but it received {len(inputs)} input tensors. '\u001b[0m\u001b[0;34m\u001b[0m\u001b[0;34m\u001b[0m\u001b[0m\n\u001b[1;32m    201\u001b[0m                      f'Inputs received: {inputs}')\n",
      "\u001b[0;31mValueError\u001b[0m: Layer \"dnn\" expects 1 input(s), but it received 2 input tensors. Inputs received: [<tf.Tensor: shape=(2, 8), dtype=float64, numpy=\narray([[1.e+04, 1.e+03, 1.e+02, 1.e+01, 1.e+00, 1.e-01, 1.e-02, 1.e-03],\n       [1.e+00, 1.e+00, 1.e+00, 1.e+00, 1.e+00, 1.e+00, 1.e+00, 1.e+00]])>, <tf.Tensor: shape=(2, 8), dtype=float64, numpy=\narray([[1.e+04, 1.e+03, 1.e+02, 1.e+01, 1.e+00, 1.e-01, 1.e-02, 1.e-03],\n       [1.e+00, 1.e+00, 1.e+00, 1.e+00, 1.e+00, 1.e+00, 1.e+00, 1.e+00]])>]"
     ]
    }
   ],
   "source": [
    "dnn.model([x,x], training=1)"
   ]
  },
  {
   "cell_type": "code",
   "execution_count": 349,
   "id": "c54e9e28-aa33-4640-a4a3-19bd71d27832",
   "metadata": {},
   "outputs": [
    {
     "name": "stdout",
     "output_type": "stream",
     "text": [
      "1/1 - 0s - loss: 1.0000 - mean_squared_error: 1.0000 - val_loss: 1.0000 - val_mean_squared_error: 1.0000 - lr: 0.0100 - 207ms/epoch - 207ms/step\n"
     ]
    }
   ],
   "source": [
    "dnn.fit(tf.ones((5,8)), tf.ones((5,8)), tf.ones((5,8)),ep=1)"
   ]
  },
  {
   "cell_type": "code",
   "execution_count": 350,
   "id": "853a5753-e258-45f7-9442-816cde4f6a77",
   "metadata": {},
   "outputs": [],
   "source": [
    "test = [x, x] "
   ]
  },
  {
   "cell_type": "code",
   "execution_count": 351,
   "id": "4ea408db-ccd6-4301-a600-362bbc225ad9",
   "metadata": {},
   "outputs": [
    {
     "data": {
      "text/plain": [
       "[array([[1.e+04, 1.e+03, 1.e+02, 1.e+01, 1.e+00, 1.e-01, 1.e-02, 1.e-03],\n",
       "        [1.e+00, 1.e+00, 1.e+00, 1.e+00, 1.e+00, 1.e+00, 1.e+00, 1.e+00]]),\n",
       " array([[1.e+04, 1.e+03, 1.e+02, 1.e+01, 1.e+00, 1.e-01, 1.e-02, 1.e-03],\n",
       "        [1.e+00, 1.e+00, 1.e+00, 1.e+00, 1.e+00, 1.e+00, 1.e+00, 1.e+00]])]"
      ]
     },
     "execution_count": 351,
     "metadata": {},
     "output_type": "execute_result"
    }
   ],
   "source": [
    "test"
   ]
  },
  {
   "cell_type": "code",
   "execution_count": 353,
   "id": "f58314f4-891a-4dd7-81ea-6ece707819d9",
   "metadata": {},
   "outputs": [
    {
     "ename": "ValueError",
     "evalue": "in user code:\n\n    File \"/datascope/slurm/miniconda3/envs/viska-tf25/lib/python3.9/site-packages/keras/engine/training.py\", line 1621, in predict_function  *\n        return step_function(self, iterator)\n    File \"/datascope/slurm/miniconda3/envs/viska-tf25/lib/python3.9/site-packages/keras/engine/training.py\", line 1611, in step_function  **\n        outputs = model.distribute_strategy.run(run_step, args=(data,))\n    File \"/datascope/slurm/miniconda3/envs/viska-tf25/lib/python3.9/site-packages/keras/engine/training.py\", line 1604, in run_step  **\n        outputs = model.predict_step(data)\n    File \"/datascope/slurm/miniconda3/envs/viska-tf25/lib/python3.9/site-packages/keras/engine/training.py\", line 1572, in predict_step\n        return self(x, training=False)\n    File \"/datascope/slurm/miniconda3/envs/viska-tf25/lib/python3.9/site-packages/keras/utils/traceback_utils.py\", line 67, in error_handler\n        raise e.with_traceback(filtered_tb) from None\n    File \"/datascope/slurm/miniconda3/envs/viska-tf25/lib/python3.9/site-packages/keras/engine/input_spec.py\", line 199, in assert_input_compatibility\n        raise ValueError(f'Layer \"{layer_name}\" expects {len(input_spec)} input(s),'\n\n    ValueError: Layer \"noisednn\" expects 2 input(s), but it received 1 input tensors. Inputs received: [<tf.Tensor 'IteratorGetNext:0' shape=(None, 8) dtype=float32>]\n",
     "output_type": "error",
     "traceback": [
      "\u001b[0;31m---------------------------------------------------------------------------\u001b[0m",
      "\u001b[0;31mValueError\u001b[0m                                Traceback (most recent call last)",
      "\u001b[0;32m/tmp/ipykernel_1936090/1206582405.py\u001b[0m in \u001b[0;36m<module>\u001b[0;34m\u001b[0m\n\u001b[0;32m----> 1\u001b[0;31m \u001b[0mdnn\u001b[0m\u001b[0;34m.\u001b[0m\u001b[0mpredict\u001b[0m\u001b[0;34m(\u001b[0m\u001b[0mx\u001b[0m\u001b[0;34m)\u001b[0m\u001b[0;34m\u001b[0m\u001b[0;34m\u001b[0m\u001b[0m\n\u001b[0m",
      "\u001b[0;32m~/PhysicsInformedML/nb/../PIML/nn/dnn/model/dnn.py\u001b[0m in \u001b[0;36mpredict\u001b[0;34m(self, x_test)\u001b[0m\n\u001b[1;32m     91\u001b[0m \u001b[0;34m\u001b[0m\u001b[0m\n\u001b[1;32m     92\u001b[0m     \u001b[0;32mdef\u001b[0m \u001b[0mpredict\u001b[0m\u001b[0;34m(\u001b[0m\u001b[0mself\u001b[0m\u001b[0;34m,\u001b[0m \u001b[0mx_test\u001b[0m\u001b[0;34m)\u001b[0m\u001b[0;34m:\u001b[0m\u001b[0;34m\u001b[0m\u001b[0;34m\u001b[0m\u001b[0m\n\u001b[0;32m---> 93\u001b[0;31m         \u001b[0;32mreturn\u001b[0m \u001b[0mself\u001b[0m\u001b[0;34m.\u001b[0m\u001b[0mmodel\u001b[0m\u001b[0;34m.\u001b[0m\u001b[0mpredict\u001b[0m\u001b[0;34m(\u001b[0m\u001b[0mx_test\u001b[0m\u001b[0;34m)\u001b[0m\u001b[0;34m\u001b[0m\u001b[0;34m\u001b[0m\u001b[0m\n\u001b[0m\u001b[1;32m     94\u001b[0m \u001b[0;34m\u001b[0m\u001b[0m\n\u001b[1;32m     95\u001b[0m     \u001b[0;32mdef\u001b[0m \u001b[0mfit\u001b[0m\u001b[0;34m(\u001b[0m\u001b[0mself\u001b[0m\u001b[0;34m,\u001b[0m \u001b[0mx_train\u001b[0m\u001b[0;34m,\u001b[0m \u001b[0my_train\u001b[0m\u001b[0;34m,\u001b[0m \u001b[0mep\u001b[0m\u001b[0;34m=\u001b[0m\u001b[0;36m50\u001b[0m\u001b[0;34m,\u001b[0m \u001b[0mbatch\u001b[0m\u001b[0;34m=\u001b[0m\u001b[0;36m512\u001b[0m\u001b[0;34m,\u001b[0m \u001b[0mverbose\u001b[0m\u001b[0;34m=\u001b[0m\u001b[0;36m2\u001b[0m\u001b[0;34m)\u001b[0m\u001b[0;34m:\u001b[0m\u001b[0;34m\u001b[0m\u001b[0;34m\u001b[0m\u001b[0m\n",
      "\u001b[0;32m/datascope/slurm/miniconda3/envs/viska-tf25/lib/python3.9/site-packages/keras/utils/traceback_utils.py\u001b[0m in \u001b[0;36merror_handler\u001b[0;34m(*args, **kwargs)\u001b[0m\n\u001b[1;32m     65\u001b[0m     \u001b[0;32mexcept\u001b[0m \u001b[0mException\u001b[0m \u001b[0;32mas\u001b[0m \u001b[0me\u001b[0m\u001b[0;34m:\u001b[0m  \u001b[0;31m# pylint: disable=broad-except\u001b[0m\u001b[0;34m\u001b[0m\u001b[0;34m\u001b[0m\u001b[0m\n\u001b[1;32m     66\u001b[0m       \u001b[0mfiltered_tb\u001b[0m \u001b[0;34m=\u001b[0m \u001b[0m_process_traceback_frames\u001b[0m\u001b[0;34m(\u001b[0m\u001b[0me\u001b[0m\u001b[0;34m.\u001b[0m\u001b[0m__traceback__\u001b[0m\u001b[0;34m)\u001b[0m\u001b[0;34m\u001b[0m\u001b[0;34m\u001b[0m\u001b[0m\n\u001b[0;32m---> 67\u001b[0;31m       \u001b[0;32mraise\u001b[0m \u001b[0me\u001b[0m\u001b[0;34m.\u001b[0m\u001b[0mwith_traceback\u001b[0m\u001b[0;34m(\u001b[0m\u001b[0mfiltered_tb\u001b[0m\u001b[0;34m)\u001b[0m \u001b[0;32mfrom\u001b[0m \u001b[0;32mNone\u001b[0m\u001b[0;34m\u001b[0m\u001b[0;34m\u001b[0m\u001b[0m\n\u001b[0m\u001b[1;32m     68\u001b[0m     \u001b[0;32mfinally\u001b[0m\u001b[0;34m:\u001b[0m\u001b[0;34m\u001b[0m\u001b[0;34m\u001b[0m\u001b[0m\n\u001b[1;32m     69\u001b[0m       \u001b[0;32mdel\u001b[0m \u001b[0mfiltered_tb\u001b[0m\u001b[0;34m\u001b[0m\u001b[0;34m\u001b[0m\u001b[0m\n",
      "\u001b[0;32m/datascope/slurm/miniconda3/envs/viska-tf25/lib/python3.9/site-packages/tensorflow/python/framework/func_graph.py\u001b[0m in \u001b[0;36mautograph_handler\u001b[0;34m(*args, **kwargs)\u001b[0m\n\u001b[1;32m   1127\u001b[0m           \u001b[0;32mexcept\u001b[0m \u001b[0mException\u001b[0m \u001b[0;32mas\u001b[0m \u001b[0me\u001b[0m\u001b[0;34m:\u001b[0m  \u001b[0;31m# pylint:disable=broad-except\u001b[0m\u001b[0;34m\u001b[0m\u001b[0;34m\u001b[0m\u001b[0m\n\u001b[1;32m   1128\u001b[0m             \u001b[0;32mif\u001b[0m \u001b[0mhasattr\u001b[0m\u001b[0;34m(\u001b[0m\u001b[0me\u001b[0m\u001b[0;34m,\u001b[0m \u001b[0;34m\"ag_error_metadata\"\u001b[0m\u001b[0;34m)\u001b[0m\u001b[0;34m:\u001b[0m\u001b[0;34m\u001b[0m\u001b[0;34m\u001b[0m\u001b[0m\n\u001b[0;32m-> 1129\u001b[0;31m               \u001b[0;32mraise\u001b[0m \u001b[0me\u001b[0m\u001b[0;34m.\u001b[0m\u001b[0mag_error_metadata\u001b[0m\u001b[0;34m.\u001b[0m\u001b[0mto_exception\u001b[0m\u001b[0;34m(\u001b[0m\u001b[0me\u001b[0m\u001b[0;34m)\u001b[0m\u001b[0;34m\u001b[0m\u001b[0;34m\u001b[0m\u001b[0m\n\u001b[0m\u001b[1;32m   1130\u001b[0m             \u001b[0;32melse\u001b[0m\u001b[0;34m:\u001b[0m\u001b[0;34m\u001b[0m\u001b[0;34m\u001b[0m\u001b[0m\n\u001b[1;32m   1131\u001b[0m               \u001b[0;32mraise\u001b[0m\u001b[0;34m\u001b[0m\u001b[0;34m\u001b[0m\u001b[0m\n",
      "\u001b[0;31mValueError\u001b[0m: in user code:\n\n    File \"/datascope/slurm/miniconda3/envs/viska-tf25/lib/python3.9/site-packages/keras/engine/training.py\", line 1621, in predict_function  *\n        return step_function(self, iterator)\n    File \"/datascope/slurm/miniconda3/envs/viska-tf25/lib/python3.9/site-packages/keras/engine/training.py\", line 1611, in step_function  **\n        outputs = model.distribute_strategy.run(run_step, args=(data,))\n    File \"/datascope/slurm/miniconda3/envs/viska-tf25/lib/python3.9/site-packages/keras/engine/training.py\", line 1604, in run_step  **\n        outputs = model.predict_step(data)\n    File \"/datascope/slurm/miniconda3/envs/viska-tf25/lib/python3.9/site-packages/keras/engine/training.py\", line 1572, in predict_step\n        return self(x, training=False)\n    File \"/datascope/slurm/miniconda3/envs/viska-tf25/lib/python3.9/site-packages/keras/utils/traceback_utils.py\", line 67, in error_handler\n        raise e.with_traceback(filtered_tb) from None\n    File \"/datascope/slurm/miniconda3/envs/viska-tf25/lib/python3.9/site-packages/keras/engine/input_spec.py\", line 199, in assert_input_compatibility\n        raise ValueError(f'Layer \"{layer_name}\" expects {len(input_spec)} input(s),'\n\n    ValueError: Layer \"noisednn\" expects 2 input(s), but it received 1 input tensors. Inputs received: [<tf.Tensor 'IteratorGetNext:0' shape=(None, 8) dtype=float32>]\n"
     ]
    }
   ],
   "source": [
    "dnn.predict(x)"
   ]
  },
  {
   "cell_type": "code",
   "execution_count": 340,
   "id": "b5c145d8-f0c6-4b3d-9928-55085ae62bbf",
   "metadata": {},
   "outputs": [
    {
     "data": {
      "text/plain": [
       "<tf.Tensor: shape=(8,), dtype=float32, numpy=\n",
       "array([ 4.3075479e+03,  7.3713654e+02,  9.2653328e+01,  3.7551074e+00,\n",
       "       -1.3172760e+00,  4.3599543e-01,  1.1225126e+00,  9.9876809e-01],\n",
       "      dtype=float32)>"
      ]
     },
     "execution_count": 340,
     "metadata": {},
     "output_type": "execute_result"
    }
   ],
   "source": [
    "tf.math.reduce_mean(dnn.predict(test),axis=0)"
   ]
  },
  {
   "cell_type": "code",
   "execution_count": null,
   "id": "680252fe-cbc0-415f-a0ca-98742d67f1aa",
   "metadata": {},
   "outputs": [],
   "source": []
  },
  {
   "cell_type": "code",
   "execution_count": 341,
   "id": "881a70df-93b9-43f3-a606-9dab9beea55e",
   "metadata": {},
   "outputs": [
    {
     "data": {
      "text/plain": [
       "<tf.Tensor: shape=(8,), dtype=float32, numpy=\n",
       "array([-513.76776  ,  -18.725481 ,   12.130399 ,    1.1860629,\n",
       "          1.0272634,    1.0075421,    1.0008882,    1.0000339],\n",
       "      dtype=float32)>"
      ]
     },
     "execution_count": 341,
     "metadata": {},
     "output_type": "execute_result"
    }
   ],
   "source": [
    "N=10000\n",
    "tf.math.reduce_mean(dnn.predict([tf.ones((N,8)), tf.ones((N,8)) * x[0]]),axis=0)"
   ]
  },
  {
   "cell_type": "code",
   "execution_count": 305,
   "id": "56737870-dd77-438d-9307-ac62765146a6",
   "metadata": {},
   "outputs": [
    {
     "data": {
      "text/plain": [
       "array([1.e+04, 1.e+03, 1.e+02, 1.e+01, 1.e+00, 1.e-01, 1.e-02, 1.e-03])"
      ]
     },
     "execution_count": 305,
     "metadata": {},
     "output_type": "execute_result"
    }
   ],
   "source": [
    "x[0]"
   ]
  },
  {
   "cell_type": "code",
   "execution_count": 284,
   "id": "8841da92-9901-4567-badf-f1778382d356",
   "metadata": {},
   "outputs": [
    {
     "name": "stdout",
     "output_type": "stream",
     "text": [
      "tf.Tensor(\n",
      "[[1.0000000e+02 3.1622774e+01 1.0000000e+01 3.1622777e+00 9.9999994e-01\n",
      "  3.1622776e-01 9.9999994e-02 3.1622779e-02]\n",
      " [9.9999994e-01 9.9999994e-01 9.9999994e-01 9.9999994e-01 9.9999994e-01\n",
      "  9.9999994e-01 9.9999994e-01 9.9999994e-01]], shape=(2, 8), dtype=float32)\n"
     ]
    },
    {
     "data": {
      "text/plain": [
       "<tf.Tensor: shape=(2, 8), dtype=float32, numpy=\n",
       "array([[ 9.98134375e+03,  1.00688141e+03,  1.01489197e+02,\n",
       "         1.02374735e+01,  2.28545904e+00, -3.59408036e-02,\n",
       "         4.36909944e-02,  4.18244302e-02],\n",
       "       [ 8.13440681e-01,  1.21760893e+00,  1.14891970e+00,\n",
       "         1.07509565e+00,  2.28545904e+00,  5.70117474e-01,\n",
       "         1.33691001e+00,  2.29098177e+00]], dtype=float32)>"
      ]
     },
     "execution_count": 284,
     "metadata": {},
     "output_type": "execute_result"
    }
   ],
   "source": [
    "dnn.model(x)"
   ]
  },
  {
   "cell_type": "code",
   "execution_count": 281,
   "id": "65c8750f-cdbb-4487-b23b-5f0c1ae5f6c0",
   "metadata": {},
   "outputs": [
    {
     "name": "stdout",
     "output_type": "stream",
     "text": [
      "tf.Tensor(\n",
      "[[0.99999994 0.99999994 0.99999994 0.99999994 0.99999994 0.99999994\n",
      "  0.99999994 0.99999994]], shape=(1, 8), dtype=float32)\n"
     ]
    },
    {
     "data": {
      "text/plain": [
       "<tf.Tensor: shape=(1, 8), dtype=float32, numpy=\n",
       "array([[ 0.8614235 ,  1.4728003 ,  1.8347193 ,  0.6827468 , -1.3172758 ,\n",
       "         0.79271895,  2.222797  ,  1.9955406 ]], dtype=float32)>"
      ]
     },
     "execution_count": 281,
     "metadata": {},
     "output_type": "execute_result"
    }
   ],
   "source": [
    "dnn.model(tf.ones((1,8)))"
   ]
  },
  {
   "cell_type": "code",
   "execution_count": 243,
   "id": "af7d7e59-390b-41d6-b5ae-048f0ae1a084",
   "metadata": {},
   "outputs": [
    {
     "name": "stdout",
     "output_type": "stream",
     "text": [
      "Tensor(\"Placeholder:0\", shape=(None, 8), dtype=float32)\n",
      "Tensor(\"IteratorGetNext:0\", shape=(None, 8), dtype=float32)\n",
      "Tensor(\"IteratorGetNext:0\", shape=(None, 8), dtype=float32)\n",
      "1/1 [==============================] - 0s 116ms/step - loss: 0.6756\n"
     ]
    },
    {
     "data": {
      "text/plain": [
       "<keras.callbacks.History at 0x7fa9f42aee20>"
      ]
     },
     "execution_count": 243,
     "metadata": {},
     "output_type": "execute_result"
    }
   ],
   "source": [
    "m0 = tf.keras.Sequential([\n",
    "    NoiseAugLayer(get_std_fn, 8, )    \n",
    "    # la.GaussianNoise(1, seed=42)  \n",
    "])\n",
    "class MyCustomCallback(tf.keras.callbacks.Callback):\n",
    "    super\n",
    "    def on_epoch_begin(self, epoch, logs=None):\n",
    "        \n",
    "        print('updating sttdev in training')\n",
    "        print(self.model.layers[0].stddev)\n",
    "cc = MyCustomCallback()\n",
    "m0.compile('adam','mse')\n",
    "m0.fit(tf.ones((1,8)), tf.ones((1,8)), callbacks=[])\n",
    "# m0(x, training=True, callbacks=[])"
   ]
  },
  {
   "cell_type": "code",
   "execution_count": 244,
   "id": "ba6432ae-875a-42e1-9dcb-d77a4d568415",
   "metadata": {},
   "outputs": [],
   "source": [
    "y = np.zeros((1000,2,8))"
   ]
  },
  {
   "cell_type": "code",
   "execution_count": 246,
   "id": "8bbb6b79-9a2c-490a-a535-387600e9fea4",
   "metadata": {},
   "outputs": [
    {
     "name": "stdout",
     "output_type": "stream",
     "text": [
      "tf.Tensor(\n",
      "[[1.e+04 1.e+03 1.e+02 1.e+01 1.e+00 1.e-01 1.e-02 1.e-03]\n",
      " [1.e+00 1.e+00 1.e+00 1.e+00 1.e+00 1.e+00 1.e+00 1.e+00]], shape=(2, 8), dtype=float32)\n"
     ]
    },
    {
     "data": {
      "text/plain": [
       "<tf.Tensor: shape=(8,), dtype=float32, numpy=\n",
       "array([ 6.9576602e+03,  2.4036745e+02,  9.8155556e+01,  1.1980403e+01,\n",
       "        9.5243239e-01, -3.5262975e-01, -2.1772380e-01, -3.3088619e-01],\n",
       "      dtype=float32)>"
      ]
     },
     "execution_count": 246,
     "metadata": {},
     "output_type": "execute_result"
    }
   ],
   "source": [
    "tf.math.reduce_mean(m0(x, training=1), axis=0)"
   ]
  },
  {
   "cell_type": "code",
   "execution_count": null,
   "id": "2e3a08b9-64c3-4f51-add5-ba62520f1b6b",
   "metadata": {},
   "outputs": [],
   "source": [
    "class MyCustomCallback(tf.keras.callbacks.Callback):\n",
    "\n",
    "    def on_epoch_begin(self, epoch, logs=None):\n",
    "        self.model.layers[2].stddev = random.uniform(0, 1)\n",
    "        print('updating sttdev in training')\n",
    "        print(self.model.layers[2].stddev)\n",
    "\n",
    "\n",
    "X_train = np.zeros((10,100))\n",
    "y_train = np.zeros((10,10))\n",
    "\n",
    "noise_change = MyCustomCallback()\n",
    "model.fit(x_train, \n",
    "          y_train, \n",
    "          batch_size=32, \n",
    "          epochs=5, \n",
    "          callbacks = [noise_change])"
   ]
  },
  {
   "cell_type": "code",
   "execution_count": 58,
   "id": "8ca9d40c-31b5-41a1-bf72-2f38d0692e57",
   "metadata": {},
   "outputs": [],
   "source": [
    "model = tf.keras.models.Sequential([\n",
    "  tf.keras.layers.Flatten(input_shape=(28, 28)),\n",
    "  tf.keras.layers.GaussianNoise(0.5),\n",
    "  tf.keras.layers.Dense(128, activation='relu'),\n",
    "  tf.keras.layers.Dense(10)\n",
    "])"
   ]
  },
  {
   "cell_type": "code",
   "execution_count": 59,
   "id": "e2bd8c8a-b029-479c-b455-e70be9af3221",
   "metadata": {},
   "outputs": [],
   "source": [
    "# inputs = Input(shape=100)\n",
    "# # bn0 = BatchNormalization(axis=1, scale=True)(inputs)\n",
    "# g0 = GaussianNoise(0.5)(bn0) \n",
    "# d0 = Dense(10)(g0)\n",
    "# model = Model(inputs, d0)\n",
    "\n",
    "model.compile(\n",
    "    optimizer=tf.keras.optimizers.Adam(0.001),\n",
    "    loss=tf.keras.losses.SparseCategoricalCrossentropy(from_logits=True),\n",
    "    metrics=[tf.keras.metrics.SparseCategoricalAccuracy()],\n",
    ")"
   ]
  },
  {
   "cell_type": "code",
   "execution_count": null,
   "id": "d6a22c48-aecd-4656-8700-6911380e7c19",
   "metadata": {},
   "outputs": [],
   "source": [
    "class MyCustomCallback(tf.keras.callbacks.Callback):\n",
    "\n",
    "    def on_epoch_begin(self, epoch, logs=None):\n",
    "        self.model.layers[2].stddev = random.uniform(0, 1)\n",
    "        print('updating sttdev in training')\n",
    "        print(self.model.layers[2].stddev)"
   ]
  },
  {
   "cell_type": "code",
   "execution_count": 50,
   "id": "1cd7c9c8-2d2b-458f-ae1b-e79140be7eb1",
   "metadata": {},
   "outputs": [
    {
     "name": "stdout",
     "output_type": "stream",
     "text": [
      "Epoch 1/5\n",
      "469/469 [==============================] - 1s 2ms/step - loss: 0.0471 - sparse_categorical_accuracy: 0.9862\n",
      "Epoch 2/5\n",
      "469/469 [==============================] - 1s 2ms/step - loss: 0.0394 - sparse_categorical_accuracy: 0.9892\n",
      "Epoch 3/5\n",
      "469/469 [==============================] - 1s 2ms/step - loss: 0.0348 - sparse_categorical_accuracy: 0.9905\n",
      "Epoch 4/5\n",
      "469/469 [==============================] - 1s 2ms/step - loss: 0.0315 - sparse_categorical_accuracy: 0.9915\n",
      "Epoch 5/5\n",
      "469/469 [==============================] - 1s 2ms/step - loss: 0.0279 - sparse_categorical_accuracy: 0.9925\n"
     ]
    },
    {
     "data": {
      "text/plain": [
       "<keras.callbacks.History at 0x7faa300f5700>"
      ]
     },
     "execution_count": 50,
     "metadata": {},
     "output_type": "execute_result"
    }
   ],
   "source": [
    "model.fit(x_train, y_train, batch_size=128, epochs=5)"
   ]
  },
  {
   "cell_type": "code",
   "execution_count": 51,
   "id": "c6656f92-52d4-4aa7-85e0-f3ec75b82c6a",
   "metadata": {},
   "outputs": [
    {
     "name": "stdout",
     "output_type": "stream",
     "text": [
      "313/313 [==============================] - 0s 848us/step - loss: 0.0647 - sparse_categorical_accuracy: 0.9798\n"
     ]
    }
   ],
   "source": [
    "score = model.evaluate(x_test, y_test, verbose=1)"
   ]
  },
  {
   "cell_type": "code",
   "execution_count": 54,
   "id": "c0801522-ed8b-4620-aaa7-292262f9857a",
   "metadata": {},
   "outputs": [
    {
     "ename": "AttributeError",
     "evalue": "'Dense' object has no attribute 'stddev'",
     "output_type": "error",
     "traceback": [
      "\u001b[0;31m---------------------------------------------------------------------------\u001b[0m",
      "\u001b[0;31mAttributeError\u001b[0m                            Traceback (most recent call last)",
      "\u001b[0;32m/tmp/ipykernel_1936090/3101989453.py\u001b[0m in \u001b[0;36m<module>\u001b[0;34m\u001b[0m\n\u001b[0;32m----> 1\u001b[0;31m \u001b[0mmodel\u001b[0m\u001b[0;34m.\u001b[0m\u001b[0mlayers\u001b[0m\u001b[0;34m[\u001b[0m\u001b[0;36m2\u001b[0m\u001b[0;34m]\u001b[0m\u001b[0;34m.\u001b[0m\u001b[0mstddev\u001b[0m\u001b[0;34m\u001b[0m\u001b[0;34m\u001b[0m\u001b[0m\n\u001b[0m",
      "\u001b[0;31mAttributeError\u001b[0m: 'Dense' object has no attribute 'stddev'"
     ]
    }
   ],
   "source": [
    "model.layers[2].stddev"
   ]
  },
  {
   "cell_type": "code",
   "execution_count": 24,
   "id": "1f042db8-6442-4c8d-9ca5-92539c00492f",
   "metadata": {},
   "outputs": [
    {
     "ename": "ValueError",
     "evalue": "Data cardinality is ambiguous:\n  x sizes: 60000\n  y sizes: 10\nMake sure all arrays contain the same number of samples.",
     "output_type": "error",
     "traceback": [
      "\u001b[0;31m---------------------------------------------------------------------------\u001b[0m",
      "\u001b[0;31mValueError\u001b[0m                                Traceback (most recent call last)",
      "\u001b[0;32m/tmp/ipykernel_1936090/457111355.py\u001b[0m in \u001b[0;36m<module>\u001b[0;34m\u001b[0m\n\u001b[1;32m     11\u001b[0m \u001b[0;34m\u001b[0m\u001b[0m\n\u001b[1;32m     12\u001b[0m \u001b[0mnoise_change\u001b[0m \u001b[0;34m=\u001b[0m \u001b[0mMyCustomCallback\u001b[0m\u001b[0;34m(\u001b[0m\u001b[0;34m)\u001b[0m\u001b[0;34m\u001b[0m\u001b[0;34m\u001b[0m\u001b[0m\n\u001b[0;32m---> 13\u001b[0;31m model.fit(x_train, \n\u001b[0m\u001b[1;32m     14\u001b[0m           \u001b[0my_train\u001b[0m\u001b[0;34m,\u001b[0m\u001b[0;34m\u001b[0m\u001b[0;34m\u001b[0m\u001b[0m\n\u001b[1;32m     15\u001b[0m           \u001b[0mbatch_size\u001b[0m\u001b[0;34m=\u001b[0m\u001b[0;36m32\u001b[0m\u001b[0;34m,\u001b[0m\u001b[0;34m\u001b[0m\u001b[0;34m\u001b[0m\u001b[0m\n",
      "\u001b[0;32m/datascope/slurm/miniconda3/envs/viska-tf25/lib/python3.9/site-packages/keras/utils/traceback_utils.py\u001b[0m in \u001b[0;36merror_handler\u001b[0;34m(*args, **kwargs)\u001b[0m\n\u001b[1;32m     65\u001b[0m     \u001b[0;32mexcept\u001b[0m \u001b[0mException\u001b[0m \u001b[0;32mas\u001b[0m \u001b[0me\u001b[0m\u001b[0;34m:\u001b[0m  \u001b[0;31m# pylint: disable=broad-except\u001b[0m\u001b[0;34m\u001b[0m\u001b[0;34m\u001b[0m\u001b[0m\n\u001b[1;32m     66\u001b[0m       \u001b[0mfiltered_tb\u001b[0m \u001b[0;34m=\u001b[0m \u001b[0m_process_traceback_frames\u001b[0m\u001b[0;34m(\u001b[0m\u001b[0me\u001b[0m\u001b[0;34m.\u001b[0m\u001b[0m__traceback__\u001b[0m\u001b[0;34m)\u001b[0m\u001b[0;34m\u001b[0m\u001b[0;34m\u001b[0m\u001b[0m\n\u001b[0;32m---> 67\u001b[0;31m       \u001b[0;32mraise\u001b[0m \u001b[0me\u001b[0m\u001b[0;34m.\u001b[0m\u001b[0mwith_traceback\u001b[0m\u001b[0;34m(\u001b[0m\u001b[0mfiltered_tb\u001b[0m\u001b[0;34m)\u001b[0m \u001b[0;32mfrom\u001b[0m \u001b[0;32mNone\u001b[0m\u001b[0;34m\u001b[0m\u001b[0;34m\u001b[0m\u001b[0m\n\u001b[0m\u001b[1;32m     68\u001b[0m     \u001b[0;32mfinally\u001b[0m\u001b[0;34m:\u001b[0m\u001b[0;34m\u001b[0m\u001b[0;34m\u001b[0m\u001b[0m\n\u001b[1;32m     69\u001b[0m       \u001b[0;32mdel\u001b[0m \u001b[0mfiltered_tb\u001b[0m\u001b[0;34m\u001b[0m\u001b[0;34m\u001b[0m\u001b[0m\n",
      "\u001b[0;32m/datascope/slurm/miniconda3/envs/viska-tf25/lib/python3.9/site-packages/keras/engine/data_adapter.py\u001b[0m in \u001b[0;36m_check_data_cardinality\u001b[0;34m(data)\u001b[0m\n\u001b[1;32m   1655\u001b[0m                            for i in tf.nest.flatten(single_data)))\n\u001b[1;32m   1656\u001b[0m     \u001b[0mmsg\u001b[0m \u001b[0;34m+=\u001b[0m \u001b[0;34m\"Make sure all arrays contain the same number of samples.\"\u001b[0m\u001b[0;34m\u001b[0m\u001b[0;34m\u001b[0m\u001b[0m\n\u001b[0;32m-> 1657\u001b[0;31m     \u001b[0;32mraise\u001b[0m \u001b[0mValueError\u001b[0m\u001b[0;34m(\u001b[0m\u001b[0mmsg\u001b[0m\u001b[0;34m)\u001b[0m\u001b[0;34m\u001b[0m\u001b[0;34m\u001b[0m\u001b[0m\n\u001b[0m\u001b[1;32m   1658\u001b[0m \u001b[0;34m\u001b[0m\u001b[0m\n\u001b[1;32m   1659\u001b[0m \u001b[0;34m\u001b[0m\u001b[0m\n",
      "\u001b[0;31mValueError\u001b[0m: Data cardinality is ambiguous:\n  x sizes: 60000\n  y sizes: 10\nMake sure all arrays contain the same number of samples."
     ]
    }
   ],
   "source": [
    "class MyCustomCallback(tf.keras.callbacks.Callback):\n",
    "\n",
    "    def on_epoch_begin(self, epoch, logs=None):\n",
    "        self.model.layers[2].stddev = random.uniform(0, 1)\n",
    "        print('updating sttdev in training')\n",
    "        print(self.model.layers[2].stddev)\n",
    "\n",
    "\n",
    "X_train = np.zeros((10,100))\n",
    "y_train = np.zeros((10,10))\n",
    "\n",
    "noise_change = MyCustomCallback()\n",
    "model.fit(x_train, \n",
    "          y_train, \n",
    "          batch_size=32, \n",
    "          epochs=5, \n",
    "          callbacks = [noise_change])"
   ]
  },
  {
   "cell_type": "code",
   "execution_count": null,
   "id": "bc1aa028-8868-486d-bacb-3d6a711b84b2",
   "metadata": {},
   "outputs": [],
   "source": []
  }
 ],
 "metadata": {
  "kernelspec": {
   "display_name": "Python 3 [viska-tf25]",
   "language": "python",
   "name": "python3-viska-tf25"
  },
  "language_info": {
   "codemirror_mode": {
    "name": "ipython",
    "version": 3
   },
   "file_extension": ".py",
   "mimetype": "text/x-python",
   "name": "python",
   "nbconvert_exporter": "python",
   "pygments_lexer": "ipython3",
   "version": "3.9.6"
  }
 },
 "nbformat": 4,
 "nbformat_minor": 5
}
