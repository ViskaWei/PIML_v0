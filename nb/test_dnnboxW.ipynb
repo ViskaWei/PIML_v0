{
 "cells": [
  {
   "cell_type": "code",
   "execution_count": 1,
   "id": "bb4e493a-d1a6-4bf5-b824-50e273796328",
   "metadata": {},
   "outputs": [],
   "source": [
    "%load_ext autoreload\n",
    "%autoreload 2"
   ]
  },
  {
   "cell_type": "code",
   "execution_count": 2,
   "id": "f6ddddde-0fe4-4c9f-ad97-6fa0c58bc760",
   "metadata": {},
   "outputs": [],
   "source": [
    "import os\n",
    "import sys\n",
    "import h5py\n",
    "import numpy as np\n",
    "import pandas as pd\n",
    "import seaborn as sns\n",
    "import matplotlib.pyplot as plt\n",
    "from tqdm import tqdm"
   ]
  },
  {
   "cell_type": "code",
   "execution_count": 3,
   "id": "7fbac6f0-8461-4c3a-a46f-ac2b195b3c41",
   "metadata": {},
   "outputs": [],
   "source": [
    "PROJECT_PATH = '../'\n",
    "import sys\n",
    "sys.path.insert(0, PROJECT_PATH)"
   ]
  },
  {
   "cell_type": "code",
   "execution_count": null,
   "id": "8cee7cce-454f-4c7d-87a8-367842aecfa2",
   "metadata": {},
   "outputs": [],
   "source": [
    "from PIML.nn.dnn.dnnboxW import DnnB"
   ]
  },
  {
   "cell_type": "code",
   "execution_count": 8,
   "id": "fa981f0e-492c-438e-971b-2ce4b04564c7",
   "metadata": {},
   "outputs": [],
   "source": [
    "from PIML.box.boxW import BoxW"
   ]
  },
  {
   "cell_type": "code",
   "execution_count": 9,
   "id": "189d60bb-d4f6-463c-aeae-ecf350020ef4",
   "metadata": {},
   "outputs": [],
   "source": [
    "b = BoxW()"
   ]
  },
  {
   "cell_type": "code",
   "execution_count": 10,
   "id": "a728dfaa-3255-4db9-b56d-9ade0e49bf94",
   "metadata": {},
   "outputs": [
    {
     "name": "stdout",
     "output_type": "stream",
     "text": [
      "=============================PREPARING R=====================\n",
      "#220 R=1000.00\n",
      "sky_H (2204,)\n",
      "Top eigs  [105.32   7.07   5.2    1.44   1.21   0.76   0.57   0.49   0.35   0.28]\n",
      "Building RBF with gaussan kernel on data shape (2880,)\n",
      "Building RBF with gaussan kernel on data shape (2880, 10)\n",
      "error: 1.7844823053258816e-08\n",
      "=============================PREPARING B=====================\n",
      "#220 R=1000.00\n",
      "sky_H (2204,)\n",
      "Top eigs  [1.9403e+02 1.4640e+01 5.7500e+00 1.8700e+00 9.3000e-01 7.3000e-01\n",
      " 6.0000e-01 3.4000e-01 2.4000e-01 1.7000e-01]\n",
      "Building RBF with gaussan kernel on data shape (5760,)\n",
      "Building RBF with gaussan kernel on data shape (5760, 10)\n",
      "error: 3.176801454218257e-07\n"
     ]
    }
   ],
   "source": [
    "W=\"RedM\"; Rs=[\"R\",\"B\"]; Res=5000;step=10;\n",
    "b.init(W,Rs, Res,step, topk=10, onPCA=1)"
   ]
  },
  {
   "cell_type": "code",
   "execution_count": 83,
   "id": "174492a9-44f4-4cc7-882d-80a958d120a1",
   "metadata": {},
   "outputs": [],
   "source": [
    "NL=10"
   ]
  },
  {
   "cell_type": "code",
   "execution_count": 84,
   "id": "1373cb6b-8a0a-4324-8c5a-4d2bb5bf4d5f",
   "metadata": {},
   "outputs": [
    {
     "name": "stdout",
     "output_type": "stream",
     "text": [
      "generating (10, 20) training data for RHB\n",
      "generating (10, 20) training data for BHB\n"
     ]
    }
   ],
   "source": [
    "pcflux, rands, pmts,= b.prepare_trainset(10, noise_level=NL, add_noise=1)"
   ]
  },
  {
   "cell_type": "code",
   "execution_count": 85,
   "id": "93a18d11-727b-47d8-89e9-c1afefe955fa",
   "metadata": {},
   "outputs": [
    {
     "name": "stdout",
     "output_type": "stream",
     "text": [
      "generating (10, 20) training data for RHB\n",
      "generating (10, 20) training data for BHB\n"
     ]
    }
   ],
   "source": [
    "pcflux0, rands, pmts,= b.prepare_trainset(10, noise_level=NL, add_noise=0, pmts=pmts)"
   ]
  },
  {
   "cell_type": "code",
   "execution_count": 94,
   "id": "d136eafa-1ea3-4fe9-8075-01f30b0d9097",
   "metadata": {},
   "outputs": [],
   "source": [
    "tx, tp = b.prepare_testset(10, noise_level=NL)"
   ]
  },
  {
   "cell_type": "code",
   "execution_count": 88,
   "id": "ac4b671a-35c7-45e2-b2db-44b9bb50357f",
   "metadata": {},
   "outputs": [
    {
     "data": {
      "text/plain": [
       "(array([-2.58234961e+00, -4.10375554e-01,  5.53518213e-01,  1.47398790e-01,\n",
       "         2.10851841e-02,  1.07199400e-01,  8.18364856e-02,  4.24131506e-02,\n",
       "         6.77628516e-02, -8.48216282e-03, -2.66841570e+00,  2.70072075e-01,\n",
       "         5.42803012e-02,  2.20932168e-02, -6.22379032e-04, -3.81962563e-04,\n",
       "         9.98870953e-03, -2.35257077e-03, -1.46767059e-03,  3.12387435e-04]),\n",
       " array([-2.58177125e+00, -4.12622282e-01,  5.49984761e-01,  1.48805381e-01,\n",
       "         2.14084629e-02,  1.11250132e-01,  8.34975248e-02,  4.16391667e-02,\n",
       "         6.95797415e-02, -7.67040597e-03, -2.66782431e+00,  2.68806361e-01,\n",
       "         5.67666619e-02,  2.59325129e-02, -1.40406415e-03, -1.41644925e-03,\n",
       "         9.99030711e-03, -1.84681569e-03,  1.72828297e-04,  2.70661961e-03]))"
      ]
     },
     "execution_count": 88,
     "metadata": {},
     "output_type": "execute_result"
    }
   ],
   "source": [
    "R0 = \"B\"\n",
    "pcflux0[R0][0][0], pcflux[R0][0]"
   ]
  },
  {
   "cell_type": "code",
   "execution_count": null,
   "id": "2d9f4b0d-f964-4176-9ba1-e43254537444",
   "metadata": {},
   "outputs": [],
   "source": []
  }
 ],
 "metadata": {
  "kernelspec": {
   "display_name": "Python 3 [ae-tf]",
   "language": "python",
   "name": "python3-ae-tf"
  },
  "language_info": {
   "codemirror_mode": {
    "name": "ipython",
    "version": 3
   },
   "file_extension": ".py",
   "mimetype": "text/x-python",
   "name": "python",
   "nbconvert_exporter": "python",
   "pygments_lexer": "ipython3",
   "version": "3.8.12"
  }
 },
 "nbformat": 4,
 "nbformat_minor": 5
}
