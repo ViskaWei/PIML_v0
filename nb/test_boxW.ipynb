{
 "cells": [
  {
   "cell_type": "code",
   "execution_count": 1,
   "id": "673947e3-8eed-4bb6-92ea-5a1bdfff61a2",
   "metadata": {},
   "outputs": [],
   "source": [
    "%load_ext autoreload\n",
    "%autoreload 2"
   ]
  },
  {
   "cell_type": "code",
   "execution_count": 2,
   "id": "0c686d19-e364-474d-b274-01404cf56388",
   "metadata": {},
   "outputs": [],
   "source": [
    "import os\n",
    "import sys\n",
    "import h5py\n",
    "import numpy as np\n",
    "import pandas as pd\n",
    "import seaborn as sns\n",
    "import matplotlib.pyplot as plt\n",
    "from tqdm import tqdm"
   ]
  },
  {
   "cell_type": "code",
   "execution_count": 3,
   "id": "3c3e78d4-3966-4517-9208-e89360b915f8",
   "metadata": {},
   "outputs": [],
   "source": [
    "PROJECT_PATH = '../'\n",
    "import sys\n",
    "sys.path.insert(0, PROJECT_PATH)"
   ]
  },
  {
   "cell_type": "code",
   "execution_count": 87,
   "id": "38decd79-cd1d-4623-be25-02f69d2d3e6e",
   "metadata": {},
   "outputs": [],
   "source": [
    "from PIML.box.boxW import BoxW"
   ]
  },
  {
   "cell_type": "code",
   "execution_count": 88,
   "id": "dba909bc-e6f7-44f5-a014-6412b70e4fea",
   "metadata": {},
   "outputs": [],
   "source": [
    "from PIML.util.util import Util\n"
   ]
  },
  {
   "cell_type": "code",
   "execution_count": 89,
   "id": "3fe5373b-59b7-483e-9ea7-82847c297000",
   "metadata": {},
   "outputs": [],
   "source": [
    "b = BoxW()"
   ]
  },
  {
   "cell_type": "code",
   "execution_count": 90,
   "id": "081ae3bb-c89b-40a5-8493-97ff227d5f99",
   "metadata": {},
   "outputs": [
    {
     "name": "stdout",
     "output_type": "stream",
     "text": [
      "=============================PREPARING R=====================\n",
      "#220 R=1000.00\n",
      "sky_H (2204,)\n",
      "Top eigs  [1.0532e+02 7.0700e+00 5.2000e+00 1.4400e+00 1.2100e+00 7.6000e-01\n",
      " 5.7000e-01 4.9000e-01 3.5000e-01 2.8000e-01 2.3000e-01 1.7000e-01\n",
      " 1.4000e-01 1.1000e-01 1.0000e-01 9.0000e-02]\n",
      "Building RBF with gaussan kernel on data shape (2880,)\n",
      "Building RBF with gaussan kernel on data shape (2880, 16)\n",
      "error: 2.4504848187193207e-08\n"
     ]
    }
   ],
   "source": [
    "W=\"RedM\"; R=\"R\"; Res=5000;step=10; topk=16;\n",
    "b.init(W,[R], Res, step, topk=topk, onPCA=1)"
   ]
  },
  {
   "cell_type": "code",
   "execution_count": 91,
   "id": "92ec002f-1359-48a7-876b-18fa51ba2d23",
   "metadata": {},
   "outputs": [
    {
     "name": "stdout",
     "output_type": "stream",
     "text": [
      "=============================PREPARING B=====================\n",
      "#220 R=1000.00\n",
      "sky_H (2204,)\n",
      "Top eigs  [1.9403e+02 1.4640e+01 5.7500e+00 1.8700e+00 9.3000e-01 7.3000e-01\n",
      " 6.0000e-01 3.4000e-01 2.4000e-01 1.7000e-01 1.2000e-01 1.0000e-01\n",
      " 9.0000e-02 8.0000e-02 6.0000e-02 5.0000e-02]\n",
      "Building RBF with gaussan kernel on data shape (5760,)\n",
      "Building RBF with gaussan kernel on data shape (5760, 16)\n",
      "error: 3.865481416544084e-07\n"
     ]
    }
   ],
   "source": [
    "b.run_step_rbf(\"B\")"
   ]
  },
  {
   "cell_type": "code",
   "execution_count": 116,
   "id": "123c651c-81fc-463c-951c-dfe24d236df4",
   "metadata": {},
   "outputs": [],
   "source": [
    "b.set_eigv()"
   ]
  },
  {
   "cell_type": "code",
   "execution_count": 63,
   "id": "ba7fe9ff-a945-4805-a019-b659e4dfefdd",
   "metadata": {},
   "outputs": [
    {
     "data": {
      "text/plain": [
       "[<matplotlib.lines.Line2D at 0x7ff79fe5b4f0>]"
      ]
     },
     "execution_count": 63,
     "metadata": {},
     "output_type": "execute_result"
    },
    {
     "data": {
      "image/png": "[encoded data removed]",
      "text/plain": [
       "<Figure size 432x288 with 1 Axes>"
      ]
     },
     "metadata": {
      "needs_background": "light"
     },
     "output_type": "display_data"
    }
   ],
   "source": [
    "pmt=b.DPhyMid[\"B\"]\n",
    "# plt.plot()\n",
    "plt.plot(interp_f(pmt) - flux[Util.get_fdx_from_pmt(pmt, b.DPara[\"B\"])])"
   ]
  },
  {
   "cell_type": "code",
   "execution_count": 46,
   "id": "125c6388-455f-4214-9e66-c09d63a0b913",
   "metadata": {},
   "outputs": [
    {
     "data": {
      "text/plain": [
       "array([-1.58599161e+00, -4.69300820e-02, -1.00219655e-01,  3.09597509e-02,\n",
       "        1.20876399e-02, -3.74110728e-03, -4.93205734e-03, -2.60924360e-03,\n",
       "       -1.43458789e-03,  5.35389248e-03,  3.82345435e-03, -5.81621497e-03,\n",
       "        1.91609078e-03,  2.65193069e-03, -2.89309808e-03,  6.67209554e-04])"
      ]
     },
     "execution_count": 46,
     "metadata": {},
     "output_type": "execute_result"
    }
   ],
   "source": [
    "b.DRbf_ak[R](b.DPara[R][0])"
   ]
  },
  {
   "cell_type": "code",
   "execution_count": 93,
   "id": "100086a0-7c52-45d0-afd4-55192e41117a",
   "metadata": {},
   "outputs": [],
   "source": [
    "_, pmts = b.get_random_pmt_R(R, 10)\n",
    "fluxs = b.DRbf_flux[R](pmts)"
   ]
  },
  {
   "cell_type": "code",
   "execution_count": 94,
   "id": "a9368b14-fd68-4d51-aae9-7d4a5951968c",
   "metadata": {},
   "outputs": [],
   "source": [
    "sigma = b.DRbf_sigma[R](pmts, 2, divide=0)\n",
    "noiseMat = np.random.normal(0, sigma, sigma.shape)"
   ]
  }
 ],
 "metadata": {
  "kernelspec": {
   "display_name": "Python 3 [ae-tf]",
   "language": "python",
   "name": "python3-ae-tf"
  },
  "language_info": {
   "codemirror_mode": {
    "name": "ipython",
    "version": 3
   },
   "file_extension": ".py",
   "mimetype": "text/x-python",
   "name": "python",
   "nbconvert_exporter": "python",
   "pygments_lexer": "ipython3",
   "version": "3.8.12"
  }
 },
 "nbformat": 4,
 "nbformat_minor": 5
}
