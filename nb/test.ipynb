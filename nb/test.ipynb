{
 "cells": [
  {
   "cell_type": "code",
   "execution_count": 1,
   "id": "d5a805fa-30e1-456d-843d-ff78159bed1a",
   "metadata": {},
   "outputs": [],
   "source": [
    "%load_ext autoreload\n",
    "%autoreload 2"
   ]
  },
  {
   "cell_type": "code",
   "execution_count": 2,
   "id": "50133f5f-6746-498c-8f3e-4bc380bbb6c0",
   "metadata": {},
   "outputs": [],
   "source": [
    "import os\n",
    "import sys\n",
    "import h5py\n",
    "import numpy as np\n",
    "import pandas as pd\n",
    "import seaborn as sns\n",
    "import matplotlib.pyplot as plt\n",
    "from tqdm import tqdm"
   ]
  },
  {
   "cell_type": "code",
   "execution_count": 3,
   "id": "bff2e5ae-2f2a-4f54-af4a-8699faed6094",
   "metadata": {},
   "outputs": [],
   "source": [
    "PROJECT_PATH = '../'\n",
    "import sys\n",
    "sys.path.insert(0, PROJECT_PATH)"
   ]
  },
  {
   "cell_type": "code",
   "execution_count": 32,
   "id": "dcf72bc1-6ba5-4a25-aae8-c3ed1e704bc6",
   "metadata": {},
   "outputs": [],
   "source": [
    "from PIML.box.boxWR import BoxWR"
   ]
  },
  {
   "cell_type": "code",
   "execution_count": 33,
   "id": "bb26b636-375a-45a8-a6ab-fde2ba8a7350",
   "metadata": {},
   "outputs": [],
   "source": [
    "bb = BoxWR()"
   ]
  },
  {
   "cell_type": "code",
   "execution_count": 35,
   "id": "dede20ae-24c2-4bd3-b86a-6d683a79bc42",
   "metadata": {},
   "outputs": [
    {
     "name": "stdout",
     "output_type": "stream",
     "text": [
      "#220 R=1000.00\n",
      "Building RBF with gaussan kernel on data shape (2880, 220)\n"
     ]
    }
   ],
   "source": [
    "W=\"RedM\"; R=\"R\"; Res=5000;step=10;\n",
    "bb.init(W,R, Res,step)"
   ]
  },
  {
   "cell_type": "code",
   "execution_count": 24,
   "id": "1c36d08d-28a2-4359-8ed0-ad3b6034fef9",
   "metadata": {},
   "outputs": [
    {
     "data": {
      "text/plain": [
       "(2880, 220)"
      ]
     },
     "execution_count": 24,
     "metadata": {},
     "output_type": "execute_result"
    }
   ],
   "source": [
    "bb.flux.shape"
   ]
  },
  {
   "cell_type": "code",
   "execution_count": 30,
   "id": "7f305cb0-c02f-4b4b-83ed-0f519aeedb11",
   "metadata": {},
   "outputs": [
    {
     "data": {
      "text/plain": [
       "(220,)"
      ]
     },
     "execution_count": 30,
     "metadata": {},
     "output_type": "execute_result"
    }
   ],
   "source": [
    "bb.Obs.sky_in_res.shape"
   ]
  },
  {
   "cell_type": "code",
   "execution_count": 31,
   "id": "741b236e-89e1-465a-9976-03d95113f7aa",
   "metadata": {},
   "outputs": [
    {
     "data": {
      "text/plain": [
       "<function PIML.util.basebox.BaseBox.get_scaler_fns.<locals>.scaler_fn(x)>"
      ]
     },
     "execution_count": 31,
     "metadata": {},
     "output_type": "execute_result"
    }
   ],
   "source": [
    "bb.scaler([]"
   ]
  },
  {
   "cell_type": "code",
   "execution_count": null,
   "id": "95e8954e-4574-4b70-909d-ffd092f45f3d",
   "metadata": {},
   "outputs": [],
   "source": []
  },
  {
   "cell_type": "code",
   "execution_count": null,
   "id": "c448f5a0-5986-4863-8d63-de1885df74f5",
   "metadata": {},
   "outputs": [],
   "source": [
    "b.test_rbf("
   ]
  },
  {
   "cell_type": "code",
   "execution_count": null,
   "id": "d606ef08-3813-4827-a0aa-36a8d70994d8",
   "metadata": {},
   "outputs": [],
   "source": [
    "bb.rbf([-2.0]"
   ]
  }
 ],
 "metadata": {
  "kernelspec": {
   "display_name": "Python 3 [ae-tf]",
   "language": "python",
   "name": "python3-ae-tf"
  },
  "language_info": {
   "codemirror_mode": {
    "name": "ipython",
    "version": 3
   },
   "file_extension": ".py",
   "mimetype": "text/x-python",
   "name": "python",
   "nbconvert_exporter": "python",
   "pygments_lexer": "ipython3",
   "version": "3.8.12"
  }
 },
 "nbformat": 4,
 "nbformat_minor": 5
}
